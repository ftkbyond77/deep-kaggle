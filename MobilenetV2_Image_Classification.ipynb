{
  "metadata": {
    "kernelspec": {
      "language": "python",
      "display_name": "Python 3",
      "name": "python3"
    },
    "language_info": {
      "name": "python",
      "version": "3.11.11",
      "mimetype": "text/x-python",
      "codemirror_mode": {
        "name": "ipython",
        "version": 3
      },
      "pygments_lexer": "ipython3",
      "nbconvert_exporter": "python",
      "file_extension": ".py"
    },
    "kaggle": {
      "accelerator": "nvidiaTeslaT4",
      "dataSources": [
        {
          "sourceId": 269359,
          "sourceType": "datasetVersion",
          "datasetId": 111880
        }
      ],
      "dockerImageVersionId": 31011,
      "isInternetEnabled": true,
      "language": "python",
      "sourceType": "notebook",
      "isGpuEnabled": true
    },
    "colab": {
      "name": "MobilenetV2 Image Classification",
      "provenance": [],
      "include_colab_link": true
    }
  },
  "nbformat_minor": 0,
  "nbformat": 4,
  "cells": [
    {
      "cell_type": "markdown",
      "metadata": {
        "id": "view-in-github",
        "colab_type": "text"
      },
      "source": [
        "<a href=\"https://colab.research.google.com/github/ftkbyond77/deep-kaggle/blob/main/MobilenetV2_Image_Classification.ipynb\" target=\"_parent\"><img src=\"https://colab.research.google.com/assets/colab-badge.svg\" alt=\"Open In Colab\"/></a>"
      ]
    },
    {
      "source": [
        "# IMPORTANT: RUN THIS CELL IN ORDER TO IMPORT YOUR KAGGLE DATA SOURCES,\n",
        "# THEN FEEL FREE TO DELETE THIS CELL.\n",
        "# NOTE: THIS NOTEBOOK ENVIRONMENT DIFFERS FROM KAGGLE'S PYTHON\n",
        "# ENVIRONMENT SO THERE MAY BE MISSING LIBRARIES USED BY YOUR\n",
        "# NOTEBOOK.\n",
        "import kagglehub\n",
        "puneet6060_intel_image_classification_path = kagglehub.dataset_download('puneet6060/intel-image-classification')\n",
        "\n",
        "print('Data source import complete.')\n"
      ],
      "metadata": {
        "id": "ro5B-7-RT8YZ"
      },
      "cell_type": "code",
      "outputs": [],
      "execution_count": null
    },
    {
      "cell_type": "code",
      "source": [
        "import os\n",
        "import numpy as np\n",
        "import matplotlib.pyplot as plt\n",
        "from PIL import Image\n",
        "import random"
      ],
      "metadata": {
        "trusted": true,
        "execution": {
          "iopub.status.busy": "2025-04-12T04:24:09.882666Z",
          "iopub.execute_input": "2025-04-12T04:24:09.882964Z",
          "iopub.status.idle": "2025-04-12T04:24:09.886804Z",
          "shell.execute_reply.started": "2025-04-12T04:24:09.882944Z",
          "shell.execute_reply": "2025-04-12T04:24:09.886183Z"
        },
        "id": "U7KR9P-AT8Yb"
      },
      "outputs": [],
      "execution_count": null
    },
    {
      "cell_type": "code",
      "source": [
        "import torch\n",
        "import torch.nn as nn\n",
        "import torchvision\n",
        "from torchvision import transforms as T\n",
        "from torchvision import datasets, models\n",
        "from torch.utils.data import DataLoader"
      ],
      "metadata": {
        "trusted": true,
        "execution": {
          "iopub.status.busy": "2025-04-12T04:24:09.890158Z",
          "iopub.execute_input": "2025-04-12T04:24:09.890355Z",
          "iopub.status.idle": "2025-04-12T04:24:09.906815Z",
          "shell.execute_reply.started": "2025-04-12T04:24:09.89034Z",
          "shell.execute_reply": "2025-04-12T04:24:09.906135Z"
        },
        "id": "WZkjT_rLT8Yc"
      },
      "outputs": [],
      "execution_count": null
    },
    {
      "cell_type": "code",
      "source": [
        "SEED = 42\n",
        "random.seed(SEED)\n",
        "np.random.seed(SEED)\n",
        "torch.manual_seed(SEED)"
      ],
      "metadata": {
        "trusted": true,
        "execution": {
          "iopub.status.busy": "2025-04-12T04:24:09.907949Z",
          "iopub.execute_input": "2025-04-12T04:24:09.908172Z",
          "iopub.status.idle": "2025-04-12T04:24:09.926434Z",
          "shell.execute_reply.started": "2025-04-12T04:24:09.908158Z",
          "shell.execute_reply": "2025-04-12T04:24:09.925887Z"
        },
        "id": "NghGTH9LT8Yd",
        "outputId": "08699bdb-6634-4e7a-a695-3800ebde6df2"
      },
      "outputs": [
        {
          "execution_count": 81,
          "output_type": "execute_result",
          "data": {
            "text/plain": "<torch._C.Generator at 0x792d93b18250>"
          },
          "metadata": {}
        }
      ],
      "execution_count": null
    },
    {
      "cell_type": "code",
      "source": [
        "device = torch.device(\"cuda\" if torch.cuda.is_available() else \"cpu\")\n",
        "device"
      ],
      "metadata": {
        "trusted": true,
        "execution": {
          "iopub.status.busy": "2025-04-12T04:24:09.927636Z",
          "iopub.execute_input": "2025-04-12T04:24:09.927878Z",
          "iopub.status.idle": "2025-04-12T04:24:09.943028Z",
          "shell.execute_reply.started": "2025-04-12T04:24:09.927862Z",
          "shell.execute_reply": "2025-04-12T04:24:09.942271Z"
        },
        "id": "MBveUkcLT8Ye",
        "outputId": "335566fc-eff9-4bfa-abef-8f8469f060c5"
      },
      "outputs": [
        {
          "execution_count": 82,
          "output_type": "execute_result",
          "data": {
            "text/plain": "device(type='cuda')"
          },
          "metadata": {}
        }
      ],
      "execution_count": null
    },
    {
      "cell_type": "code",
      "source": [
        "base_path = '../input/intel-image-classification'\n",
        "train_root = os.path.join(base_path, 'seg_train', 'seg_train')\n",
        "test_root = os.path.join(base_path, 'seg_test', 'seg_test')"
      ],
      "metadata": {
        "trusted": true,
        "execution": {
          "iopub.status.busy": "2025-04-12T04:24:09.943837Z",
          "iopub.execute_input": "2025-04-12T04:24:09.944113Z",
          "iopub.status.idle": "2025-04-12T04:24:09.963317Z",
          "shell.execute_reply.started": "2025-04-12T04:24:09.944092Z",
          "shell.execute_reply": "2025-04-12T04:24:09.962754Z"
        },
        "id": "W5dLf73RT8Yf"
      },
      "outputs": [],
      "execution_count": null
    },
    {
      "cell_type": "code",
      "source": [
        "config = {\n",
        "    \"img_size\": (64, 64),\n",
        "    \"batch_size\": 64,\n",
        "    \"lr\": 1e-4,\n",
        "    \"epochs\": 10,\n",
        "    \"num_classes\":6,\n",
        "    \"patience\":3,\n",
        "}"
      ],
      "metadata": {
        "trusted": true,
        "execution": {
          "iopub.status.busy": "2025-04-12T04:24:09.964749Z",
          "iopub.execute_input": "2025-04-12T04:24:09.965025Z",
          "iopub.status.idle": "2025-04-12T04:24:09.980851Z",
          "shell.execute_reply.started": "2025-04-12T04:24:09.965011Z",
          "shell.execute_reply": "2025-04-12T04:24:09.980327Z"
        },
        "id": "Ws7PJsHAT8Yf"
      },
      "outputs": [],
      "execution_count": null
    },
    {
      "cell_type": "code",
      "source": [
        "augmented_t = T.Compose([\n",
        "    T.Resize(config['img_size']),\n",
        "    T.RandomHorizontalFlip(),\n",
        "    T.RandomAffine(10),\n",
        "    T.ToTensor(),\n",
        "    T.Normalize(mean=[0.485, 0.456, 0.406], std=[0.229, 0.224, 0.225]),\n",
        "])"
      ],
      "metadata": {
        "trusted": true,
        "execution": {
          "iopub.status.busy": "2025-04-12T04:24:09.981394Z",
          "iopub.execute_input": "2025-04-12T04:24:09.981585Z",
          "iopub.status.idle": "2025-04-12T04:24:09.999808Z",
          "shell.execute_reply.started": "2025-04-12T04:24:09.981571Z",
          "shell.execute_reply": "2025-04-12T04:24:09.999222Z"
        },
        "id": "RV0TZfThT8Yh"
      },
      "outputs": [],
      "execution_count": null
    },
    {
      "cell_type": "code",
      "source": [
        "full_dataset = datasets.ImageFolder(train_root, transform=augmented_t)\n",
        "test_dataset = datasets.ImageFolder(test_root, transform=augmented_t)"
      ],
      "metadata": {
        "trusted": true,
        "execution": {
          "iopub.status.busy": "2025-04-12T04:24:10.000381Z",
          "iopub.execute_input": "2025-04-12T04:24:10.000565Z",
          "iopub.status.idle": "2025-04-12T04:24:20.930729Z",
          "shell.execute_reply.started": "2025-04-12T04:24:10.000543Z",
          "shell.execute_reply": "2025-04-12T04:24:20.929906Z"
        },
        "id": "dq4_4tfYT8Yi"
      },
      "outputs": [],
      "execution_count": null
    },
    {
      "cell_type": "code",
      "source": [
        "from sklearn.model_selection import train_test_split\n",
        "\n",
        "train_dataset, val_dataset = train_test_split(full_dataset, test_size=0.3, random_state=42)"
      ],
      "metadata": {
        "trusted": true,
        "execution": {
          "iopub.status.busy": "2025-04-12T04:24:20.931686Z",
          "iopub.execute_input": "2025-04-12T04:24:20.93199Z",
          "iopub.status.idle": "2025-04-12T04:24:52.638343Z",
          "shell.execute_reply.started": "2025-04-12T04:24:20.931962Z",
          "shell.execute_reply": "2025-04-12T04:24:52.637568Z"
        },
        "id": "obb9EdUFT8Yk"
      },
      "outputs": [],
      "execution_count": null
    },
    {
      "cell_type": "code",
      "source": [
        "train_loader = DataLoader(train_dataset, batch_size=config['batch_size'], shuffle=True)\n",
        "val_loader = DataLoader(val_dataset, batch_size=config['batch_size'], shuffle=False)\n",
        "test_loader = DataLoader(test_dataset, batch_size=config['batch_size'], shuffle=False)\n",
        "\n",
        "len(train_loader), len(val_loader), len(test_loader)"
      ],
      "metadata": {
        "trusted": true,
        "execution": {
          "iopub.status.busy": "2025-04-12T04:24:52.639162Z",
          "iopub.execute_input": "2025-04-12T04:24:52.639394Z",
          "iopub.status.idle": "2025-04-12T04:24:52.653358Z",
          "shell.execute_reply.started": "2025-04-12T04:24:52.639375Z",
          "shell.execute_reply": "2025-04-12T04:24:52.652807Z"
        },
        "id": "f2UDV6foT8Yl",
        "outputId": "436e15a7-bc31-4d3c-bee5-ca633246acd1"
      },
      "outputs": [
        {
          "execution_count": 88,
          "output_type": "execute_result",
          "data": {
            "text/plain": "(154, 66, 47)"
          },
          "metadata": {}
        }
      ],
      "execution_count": null
    },
    {
      "cell_type": "code",
      "source": [
        "model = models.mobilenet_v2(pretrained=True)\n",
        "model.eval()"
      ],
      "metadata": {
        "trusted": true,
        "execution": {
          "iopub.status.busy": "2025-04-12T04:24:52.655281Z",
          "iopub.execute_input": "2025-04-12T04:24:52.655507Z",
          "iopub.status.idle": "2025-04-12T04:24:52.759597Z",
          "shell.execute_reply.started": "2025-04-12T04:24:52.655484Z",
          "shell.execute_reply": "2025-04-12T04:24:52.758784Z"
        },
        "id": "nUGNx5i7T8Yl",
        "outputId": "e792511e-f988-4230-e78e-e679fd833084"
      },
      "outputs": [
        {
          "execution_count": 89,
          "output_type": "execute_result",
          "data": {
            "text/plain": "MobileNetV2(\n  (features): Sequential(\n    (0): Conv2dNormActivation(\n      (0): Conv2d(3, 32, kernel_size=(3, 3), stride=(2, 2), padding=(1, 1), bias=False)\n      (1): BatchNorm2d(32, eps=1e-05, momentum=0.1, affine=True, track_running_stats=True)\n      (2): ReLU6(inplace=True)\n    )\n    (1): InvertedResidual(\n      (conv): Sequential(\n        (0): Conv2dNormActivation(\n          (0): Conv2d(32, 32, kernel_size=(3, 3), stride=(1, 1), padding=(1, 1), groups=32, bias=False)\n          (1): BatchNorm2d(32, eps=1e-05, momentum=0.1, affine=True, track_running_stats=True)\n          (2): ReLU6(inplace=True)\n        )\n        (1): Conv2d(32, 16, kernel_size=(1, 1), stride=(1, 1), bias=False)\n        (2): BatchNorm2d(16, eps=1e-05, momentum=0.1, affine=True, track_running_stats=True)\n      )\n    )\n    (2): InvertedResidual(\n      (conv): Sequential(\n        (0): Conv2dNormActivation(\n          (0): Conv2d(16, 96, kernel_size=(1, 1), stride=(1, 1), bias=False)\n          (1): BatchNorm2d(96, eps=1e-05, momentum=0.1, affine=True, track_running_stats=True)\n          (2): ReLU6(inplace=True)\n        )\n        (1): Conv2dNormActivation(\n          (0): Conv2d(96, 96, kernel_size=(3, 3), stride=(2, 2), padding=(1, 1), groups=96, bias=False)\n          (1): BatchNorm2d(96, eps=1e-05, momentum=0.1, affine=True, track_running_stats=True)\n          (2): ReLU6(inplace=True)\n        )\n        (2): Conv2d(96, 24, kernel_size=(1, 1), stride=(1, 1), bias=False)\n        (3): BatchNorm2d(24, eps=1e-05, momentum=0.1, affine=True, track_running_stats=True)\n      )\n    )\n    (3): InvertedResidual(\n      (conv): Sequential(\n        (0): Conv2dNormActivation(\n          (0): Conv2d(24, 144, kernel_size=(1, 1), stride=(1, 1), bias=False)\n          (1): BatchNorm2d(144, eps=1e-05, momentum=0.1, affine=True, track_running_stats=True)\n          (2): ReLU6(inplace=True)\n        )\n        (1): Conv2dNormActivation(\n          (0): Conv2d(144, 144, kernel_size=(3, 3), stride=(1, 1), padding=(1, 1), groups=144, bias=False)\n          (1): BatchNorm2d(144, eps=1e-05, momentum=0.1, affine=True, track_running_stats=True)\n          (2): ReLU6(inplace=True)\n        )\n        (2): Conv2d(144, 24, kernel_size=(1, 1), stride=(1, 1), bias=False)\n        (3): BatchNorm2d(24, eps=1e-05, momentum=0.1, affine=True, track_running_stats=True)\n      )\n    )\n    (4): InvertedResidual(\n      (conv): Sequential(\n        (0): Conv2dNormActivation(\n          (0): Conv2d(24, 144, kernel_size=(1, 1), stride=(1, 1), bias=False)\n          (1): BatchNorm2d(144, eps=1e-05, momentum=0.1, affine=True, track_running_stats=True)\n          (2): ReLU6(inplace=True)\n        )\n        (1): Conv2dNormActivation(\n          (0): Conv2d(144, 144, kernel_size=(3, 3), stride=(2, 2), padding=(1, 1), groups=144, bias=False)\n          (1): BatchNorm2d(144, eps=1e-05, momentum=0.1, affine=True, track_running_stats=True)\n          (2): ReLU6(inplace=True)\n        )\n        (2): Conv2d(144, 32, kernel_size=(1, 1), stride=(1, 1), bias=False)\n        (3): BatchNorm2d(32, eps=1e-05, momentum=0.1, affine=True, track_running_stats=True)\n      )\n    )\n    (5): InvertedResidual(\n      (conv): Sequential(\n        (0): Conv2dNormActivation(\n          (0): Conv2d(32, 192, kernel_size=(1, 1), stride=(1, 1), bias=False)\n          (1): BatchNorm2d(192, eps=1e-05, momentum=0.1, affine=True, track_running_stats=True)\n          (2): ReLU6(inplace=True)\n        )\n        (1): Conv2dNormActivation(\n          (0): Conv2d(192, 192, kernel_size=(3, 3), stride=(1, 1), padding=(1, 1), groups=192, bias=False)\n          (1): BatchNorm2d(192, eps=1e-05, momentum=0.1, affine=True, track_running_stats=True)\n          (2): ReLU6(inplace=True)\n        )\n        (2): Conv2d(192, 32, kernel_size=(1, 1), stride=(1, 1), bias=False)\n        (3): BatchNorm2d(32, eps=1e-05, momentum=0.1, affine=True, track_running_stats=True)\n      )\n    )\n    (6): InvertedResidual(\n      (conv): Sequential(\n        (0): Conv2dNormActivation(\n          (0): Conv2d(32, 192, kernel_size=(1, 1), stride=(1, 1), bias=False)\n          (1): BatchNorm2d(192, eps=1e-05, momentum=0.1, affine=True, track_running_stats=True)\n          (2): ReLU6(inplace=True)\n        )\n        (1): Conv2dNormActivation(\n          (0): Conv2d(192, 192, kernel_size=(3, 3), stride=(1, 1), padding=(1, 1), groups=192, bias=False)\n          (1): BatchNorm2d(192, eps=1e-05, momentum=0.1, affine=True, track_running_stats=True)\n          (2): ReLU6(inplace=True)\n        )\n        (2): Conv2d(192, 32, kernel_size=(1, 1), stride=(1, 1), bias=False)\n        (3): BatchNorm2d(32, eps=1e-05, momentum=0.1, affine=True, track_running_stats=True)\n      )\n    )\n    (7): InvertedResidual(\n      (conv): Sequential(\n        (0): Conv2dNormActivation(\n          (0): Conv2d(32, 192, kernel_size=(1, 1), stride=(1, 1), bias=False)\n          (1): BatchNorm2d(192, eps=1e-05, momentum=0.1, affine=True, track_running_stats=True)\n          (2): ReLU6(inplace=True)\n        )\n        (1): Conv2dNormActivation(\n          (0): Conv2d(192, 192, kernel_size=(3, 3), stride=(2, 2), padding=(1, 1), groups=192, bias=False)\n          (1): BatchNorm2d(192, eps=1e-05, momentum=0.1, affine=True, track_running_stats=True)\n          (2): ReLU6(inplace=True)\n        )\n        (2): Conv2d(192, 64, kernel_size=(1, 1), stride=(1, 1), bias=False)\n        (3): BatchNorm2d(64, eps=1e-05, momentum=0.1, affine=True, track_running_stats=True)\n      )\n    )\n    (8): InvertedResidual(\n      (conv): Sequential(\n        (0): Conv2dNormActivation(\n          (0): Conv2d(64, 384, kernel_size=(1, 1), stride=(1, 1), bias=False)\n          (1): BatchNorm2d(384, eps=1e-05, momentum=0.1, affine=True, track_running_stats=True)\n          (2): ReLU6(inplace=True)\n        )\n        (1): Conv2dNormActivation(\n          (0): Conv2d(384, 384, kernel_size=(3, 3), stride=(1, 1), padding=(1, 1), groups=384, bias=False)\n          (1): BatchNorm2d(384, eps=1e-05, momentum=0.1, affine=True, track_running_stats=True)\n          (2): ReLU6(inplace=True)\n        )\n        (2): Conv2d(384, 64, kernel_size=(1, 1), stride=(1, 1), bias=False)\n        (3): BatchNorm2d(64, eps=1e-05, momentum=0.1, affine=True, track_running_stats=True)\n      )\n    )\n    (9): InvertedResidual(\n      (conv): Sequential(\n        (0): Conv2dNormActivation(\n          (0): Conv2d(64, 384, kernel_size=(1, 1), stride=(1, 1), bias=False)\n          (1): BatchNorm2d(384, eps=1e-05, momentum=0.1, affine=True, track_running_stats=True)\n          (2): ReLU6(inplace=True)\n        )\n        (1): Conv2dNormActivation(\n          (0): Conv2d(384, 384, kernel_size=(3, 3), stride=(1, 1), padding=(1, 1), groups=384, bias=False)\n          (1): BatchNorm2d(384, eps=1e-05, momentum=0.1, affine=True, track_running_stats=True)\n          (2): ReLU6(inplace=True)\n        )\n        (2): Conv2d(384, 64, kernel_size=(1, 1), stride=(1, 1), bias=False)\n        (3): BatchNorm2d(64, eps=1e-05, momentum=0.1, affine=True, track_running_stats=True)\n      )\n    )\n    (10): InvertedResidual(\n      (conv): Sequential(\n        (0): Conv2dNormActivation(\n          (0): Conv2d(64, 384, kernel_size=(1, 1), stride=(1, 1), bias=False)\n          (1): BatchNorm2d(384, eps=1e-05, momentum=0.1, affine=True, track_running_stats=True)\n          (2): ReLU6(inplace=True)\n        )\n        (1): Conv2dNormActivation(\n          (0): Conv2d(384, 384, kernel_size=(3, 3), stride=(1, 1), padding=(1, 1), groups=384, bias=False)\n          (1): BatchNorm2d(384, eps=1e-05, momentum=0.1, affine=True, track_running_stats=True)\n          (2): ReLU6(inplace=True)\n        )\n        (2): Conv2d(384, 64, kernel_size=(1, 1), stride=(1, 1), bias=False)\n        (3): BatchNorm2d(64, eps=1e-05, momentum=0.1, affine=True, track_running_stats=True)\n      )\n    )\n    (11): InvertedResidual(\n      (conv): Sequential(\n        (0): Conv2dNormActivation(\n          (0): Conv2d(64, 384, kernel_size=(1, 1), stride=(1, 1), bias=False)\n          (1): BatchNorm2d(384, eps=1e-05, momentum=0.1, affine=True, track_running_stats=True)\n          (2): ReLU6(inplace=True)\n        )\n        (1): Conv2dNormActivation(\n          (0): Conv2d(384, 384, kernel_size=(3, 3), stride=(1, 1), padding=(1, 1), groups=384, bias=False)\n          (1): BatchNorm2d(384, eps=1e-05, momentum=0.1, affine=True, track_running_stats=True)\n          (2): ReLU6(inplace=True)\n        )\n        (2): Conv2d(384, 96, kernel_size=(1, 1), stride=(1, 1), bias=False)\n        (3): BatchNorm2d(96, eps=1e-05, momentum=0.1, affine=True, track_running_stats=True)\n      )\n    )\n    (12): InvertedResidual(\n      (conv): Sequential(\n        (0): Conv2dNormActivation(\n          (0): Conv2d(96, 576, kernel_size=(1, 1), stride=(1, 1), bias=False)\n          (1): BatchNorm2d(576, eps=1e-05, momentum=0.1, affine=True, track_running_stats=True)\n          (2): ReLU6(inplace=True)\n        )\n        (1): Conv2dNormActivation(\n          (0): Conv2d(576, 576, kernel_size=(3, 3), stride=(1, 1), padding=(1, 1), groups=576, bias=False)\n          (1): BatchNorm2d(576, eps=1e-05, momentum=0.1, affine=True, track_running_stats=True)\n          (2): ReLU6(inplace=True)\n        )\n        (2): Conv2d(576, 96, kernel_size=(1, 1), stride=(1, 1), bias=False)\n        (3): BatchNorm2d(96, eps=1e-05, momentum=0.1, affine=True, track_running_stats=True)\n      )\n    )\n    (13): InvertedResidual(\n      (conv): Sequential(\n        (0): Conv2dNormActivation(\n          (0): Conv2d(96, 576, kernel_size=(1, 1), stride=(1, 1), bias=False)\n          (1): BatchNorm2d(576, eps=1e-05, momentum=0.1, affine=True, track_running_stats=True)\n          (2): ReLU6(inplace=True)\n        )\n        (1): Conv2dNormActivation(\n          (0): Conv2d(576, 576, kernel_size=(3, 3), stride=(1, 1), padding=(1, 1), groups=576, bias=False)\n          (1): BatchNorm2d(576, eps=1e-05, momentum=0.1, affine=True, track_running_stats=True)\n          (2): ReLU6(inplace=True)\n        )\n        (2): Conv2d(576, 96, kernel_size=(1, 1), stride=(1, 1), bias=False)\n        (3): BatchNorm2d(96, eps=1e-05, momentum=0.1, affine=True, track_running_stats=True)\n      )\n    )\n    (14): InvertedResidual(\n      (conv): Sequential(\n        (0): Conv2dNormActivation(\n          (0): Conv2d(96, 576, kernel_size=(1, 1), stride=(1, 1), bias=False)\n          (1): BatchNorm2d(576, eps=1e-05, momentum=0.1, affine=True, track_running_stats=True)\n          (2): ReLU6(inplace=True)\n        )\n        (1): Conv2dNormActivation(\n          (0): Conv2d(576, 576, kernel_size=(3, 3), stride=(2, 2), padding=(1, 1), groups=576, bias=False)\n          (1): BatchNorm2d(576, eps=1e-05, momentum=0.1, affine=True, track_running_stats=True)\n          (2): ReLU6(inplace=True)\n        )\n        (2): Conv2d(576, 160, kernel_size=(1, 1), stride=(1, 1), bias=False)\n        (3): BatchNorm2d(160, eps=1e-05, momentum=0.1, affine=True, track_running_stats=True)\n      )\n    )\n    (15): InvertedResidual(\n      (conv): Sequential(\n        (0): Conv2dNormActivation(\n          (0): Conv2d(160, 960, kernel_size=(1, 1), stride=(1, 1), bias=False)\n          (1): BatchNorm2d(960, eps=1e-05, momentum=0.1, affine=True, track_running_stats=True)\n          (2): ReLU6(inplace=True)\n        )\n        (1): Conv2dNormActivation(\n          (0): Conv2d(960, 960, kernel_size=(3, 3), stride=(1, 1), padding=(1, 1), groups=960, bias=False)\n          (1): BatchNorm2d(960, eps=1e-05, momentum=0.1, affine=True, track_running_stats=True)\n          (2): ReLU6(inplace=True)\n        )\n        (2): Conv2d(960, 160, kernel_size=(1, 1), stride=(1, 1), bias=False)\n        (3): BatchNorm2d(160, eps=1e-05, momentum=0.1, affine=True, track_running_stats=True)\n      )\n    )\n    (16): InvertedResidual(\n      (conv): Sequential(\n        (0): Conv2dNormActivation(\n          (0): Conv2d(160, 960, kernel_size=(1, 1), stride=(1, 1), bias=False)\n          (1): BatchNorm2d(960, eps=1e-05, momentum=0.1, affine=True, track_running_stats=True)\n          (2): ReLU6(inplace=True)\n        )\n        (1): Conv2dNormActivation(\n          (0): Conv2d(960, 960, kernel_size=(3, 3), stride=(1, 1), padding=(1, 1), groups=960, bias=False)\n          (1): BatchNorm2d(960, eps=1e-05, momentum=0.1, affine=True, track_running_stats=True)\n          (2): ReLU6(inplace=True)\n        )\n        (2): Conv2d(960, 160, kernel_size=(1, 1), stride=(1, 1), bias=False)\n        (3): BatchNorm2d(160, eps=1e-05, momentum=0.1, affine=True, track_running_stats=True)\n      )\n    )\n    (17): InvertedResidual(\n      (conv): Sequential(\n        (0): Conv2dNormActivation(\n          (0): Conv2d(160, 960, kernel_size=(1, 1), stride=(1, 1), bias=False)\n          (1): BatchNorm2d(960, eps=1e-05, momentum=0.1, affine=True, track_running_stats=True)\n          (2): ReLU6(inplace=True)\n        )\n        (1): Conv2dNormActivation(\n          (0): Conv2d(960, 960, kernel_size=(3, 3), stride=(1, 1), padding=(1, 1), groups=960, bias=False)\n          (1): BatchNorm2d(960, eps=1e-05, momentum=0.1, affine=True, track_running_stats=True)\n          (2): ReLU6(inplace=True)\n        )\n        (2): Conv2d(960, 320, kernel_size=(1, 1), stride=(1, 1), bias=False)\n        (3): BatchNorm2d(320, eps=1e-05, momentum=0.1, affine=True, track_running_stats=True)\n      )\n    )\n    (18): Conv2dNormActivation(\n      (0): Conv2d(320, 1280, kernel_size=(1, 1), stride=(1, 1), bias=False)\n      (1): BatchNorm2d(1280, eps=1e-05, momentum=0.1, affine=True, track_running_stats=True)\n      (2): ReLU6(inplace=True)\n    )\n  )\n  (classifier): Sequential(\n    (0): Dropout(p=0.2, inplace=False)\n    (1): Linear(in_features=1280, out_features=1000, bias=True)\n  )\n)"
          },
          "metadata": {}
        }
      ],
      "execution_count": null
    },
    {
      "cell_type": "code",
      "source": [
        "num_classes = config['num_classes']\n",
        "model.classifier[1] = nn.Linear(model.classifier[1].in_features, config[\"num_classes\"])"
      ],
      "metadata": {
        "trusted": true,
        "execution": {
          "iopub.status.busy": "2025-04-12T04:24:52.760371Z",
          "iopub.execute_input": "2025-04-12T04:24:52.760708Z",
          "iopub.status.idle": "2025-04-12T04:24:52.764857Z",
          "shell.execute_reply.started": "2025-04-12T04:24:52.76069Z",
          "shell.execute_reply": "2025-04-12T04:24:52.764205Z"
        },
        "id": "vrJYb9nIT8Ym"
      },
      "outputs": [],
      "execution_count": null
    },
    {
      "cell_type": "code",
      "source": [
        "criterion = nn.CrossEntropyLoss()\n",
        "optimizer = torch.optim.Adam(model.parameters(), lr=config['lr'])\n",
        "scheduler = torch.optim.lr_scheduler.ReduceLROnPlateau(optimizer, mode='min', patience=config['patience'], factor=0.5, verbose=True)"
      ],
      "metadata": {
        "trusted": true,
        "execution": {
          "iopub.status.busy": "2025-04-12T04:24:52.765633Z",
          "iopub.execute_input": "2025-04-12T04:24:52.76592Z",
          "iopub.status.idle": "2025-04-12T04:24:52.786571Z",
          "shell.execute_reply.started": "2025-04-12T04:24:52.765904Z",
          "shell.execute_reply": "2025-04-12T04:24:52.786053Z"
        },
        "id": "v9a-2wR6T8Yp"
      },
      "outputs": [],
      "execution_count": null
    },
    {
      "cell_type": "code",
      "source": [
        "from collections import defaultdict"
      ],
      "metadata": {
        "trusted": true,
        "execution": {
          "iopub.status.busy": "2025-04-12T04:24:52.787298Z",
          "iopub.execute_input": "2025-04-12T04:24:52.78748Z",
          "iopub.status.idle": "2025-04-12T04:24:52.802879Z",
          "shell.execute_reply.started": "2025-04-12T04:24:52.787466Z",
          "shell.execute_reply": "2025-04-12T04:24:52.802357Z"
        },
        "id": "xryWotO5T8Y5"
      },
      "outputs": [],
      "execution_count": null
    },
    {
      "cell_type": "code",
      "source": [
        "loss_history = {'train': [], 'val': []}"
      ],
      "metadata": {
        "trusted": true,
        "execution": {
          "iopub.status.busy": "2025-04-12T04:24:52.803438Z",
          "iopub.execute_input": "2025-04-12T04:24:52.803629Z",
          "iopub.status.idle": "2025-04-12T04:24:52.819672Z",
          "shell.execute_reply.started": "2025-04-12T04:24:52.803616Z",
          "shell.execute_reply": "2025-04-12T04:24:52.819109Z"
        },
        "id": "m7KVr78nT8ZH"
      },
      "outputs": [],
      "execution_count": null
    },
    {
      "cell_type": "code",
      "source": [
        "from tqdm import tqdm"
      ],
      "metadata": {
        "trusted": true,
        "execution": {
          "iopub.status.busy": "2025-04-12T04:24:52.820319Z",
          "iopub.execute_input": "2025-04-12T04:24:52.820557Z",
          "iopub.status.idle": "2025-04-12T04:24:52.835037Z",
          "shell.execute_reply.started": "2025-04-12T04:24:52.820515Z",
          "shell.execute_reply": "2025-04-12T04:24:52.834555Z"
        },
        "id": "_RhhdNZ0T8ZH"
      },
      "outputs": [],
      "execution_count": null
    },
    {
      "cell_type": "code",
      "source": [
        "for epoch in range(config[\"epochs\"]):\n",
        "    model.train()\n",
        "    running_loss = 0.0\n",
        "    correct = 0\n",
        "    total = 0\n",
        "\n",
        "    with tqdm(train_loader, desc=f\"Epoch {epoch+1}/{config['epochs']}\") as pbar:\n",
        "        for images, labels in pbar:\n",
        "            optimizer.zero_grad()\n",
        "            outputs = model(images)\n",
        "            loss = criterion(outputs, labels)\n",
        "            loss.backward()\n",
        "            optimizer.step()\n",
        "\n",
        "            running_loss += loss.item()\n",
        "            _, predicted = torch.max(outputs, 1)\n",
        "            total += labels.size(0)\n",
        "            correct += (predicted == labels).sum().item()\n",
        "\n",
        "            pbar.set_postfix(loss=running_loss/len(train_loader), accuracy=100*correct/total)\n",
        "\n",
        "    model.eval()\n",
        "    val_loss = 0.0\n",
        "    correct = 0\n",
        "    total = 0\n",
        "\n",
        "    with torch.no_grad():\n",
        "        for images, labels in val_loader:\n",
        "            outputs = model(images)\n",
        "            loss = criterion(outputs, labels)\n",
        "            val_loss += loss.item()\n",
        "            _, predicted = torch.max(outputs, 1)\n",
        "            total += labels.size(0)\n",
        "            correct += (predicted == labels).sum().item()\n",
        "\n",
        "    val_accuracy = 100 * correct / total\n",
        "    print(f\"Validation Loss: {val_loss/len(val_loader)}, Validation Accuracy: {val_accuracy}%\")\n",
        "\n",
        "    scheduler.step(val_loss/len(val_loader))"
      ],
      "metadata": {
        "trusted": true,
        "execution": {
          "iopub.status.busy": "2025-04-12T04:24:52.835621Z",
          "iopub.execute_input": "2025-04-12T04:24:52.835817Z",
          "iopub.status.idle": "2025-04-12T04:37:31.594757Z",
          "shell.execute_reply.started": "2025-04-12T04:24:52.835803Z",
          "shell.execute_reply": "2025-04-12T04:37:31.594Z"
        },
        "id": "48_Mg7qqT8ZH",
        "outputId": "f6bf874b-ddc7-4920-928e-192f9d458f15"
      },
      "outputs": [
        {
          "name": "stderr",
          "text": "Epoch 1/10: 100%|██████████| 154/154 [01:10<00:00,  2.19it/s, accuracy=77.2, loss=0.633]\n",
          "output_type": "stream"
        },
        {
          "name": "stdout",
          "text": "Validation Loss: 0.3950273889032277, Validation Accuracy: 85.89408691522203%\n",
          "output_type": "stream"
        },
        {
          "name": "stderr",
          "text": "Epoch 2/10: 100%|██████████| 154/154 [01:09<00:00,  2.21it/s, accuracy=89.1, loss=0.309]\n",
          "output_type": "stream"
        },
        {
          "name": "stdout",
          "text": "Validation Loss: 0.3384469004743027, Validation Accuracy: 88.12633578722394%\n",
          "output_type": "stream"
        },
        {
          "name": "stderr",
          "text": "Epoch 3/10: 100%|██████████| 154/154 [01:09<00:00,  2.21it/s, accuracy=93.5, loss=0.191]\n",
          "output_type": "stream"
        },
        {
          "name": "stdout",
          "text": "Validation Loss: 0.35986173762516543, Validation Accuracy: 87.53265257658514%\n",
          "output_type": "stream"
        },
        {
          "name": "stderr",
          "text": "Epoch 4/10: 100%|██████████| 154/154 [01:10<00:00,  2.18it/s, accuracy=95.7, loss=0.124] \n",
          "output_type": "stream"
        },
        {
          "name": "stdout",
          "text": "Validation Loss: 0.3890348474184672, Validation Accuracy: 87.79387318926621%\n",
          "output_type": "stream"
        },
        {
          "name": "stderr",
          "text": "Epoch 5/10: 100%|██████████| 154/154 [01:10<00:00,  2.19it/s, accuracy=97.5, loss=0.0746]\n",
          "output_type": "stream"
        },
        {
          "name": "stdout",
          "text": "Validation Loss: 0.41715594031142467, Validation Accuracy: 87.98385181667062%\n",
          "output_type": "stream"
        },
        {
          "name": "stderr",
          "text": "Epoch 6/10: 100%|██████████| 154/154 [01:09<00:00,  2.20it/s, accuracy=98.1, loss=0.0555]\n",
          "output_type": "stream"
        },
        {
          "name": "stdout",
          "text": "Validation Loss: 0.45967183724948857, Validation Accuracy: 87.31892662075516%\n",
          "output_type": "stream"
        },
        {
          "name": "stderr",
          "text": "Epoch 7/10: 100%|██████████| 154/154 [01:10<00:00,  2.20it/s, accuracy=99.2, loss=0.029] \n",
          "output_type": "stream"
        },
        {
          "name": "stdout",
          "text": "Validation Loss: 0.4500164474275979, Validation Accuracy: 88.26881975777725%\n",
          "output_type": "stream"
        },
        {
          "name": "stderr",
          "text": "Epoch 8/10: 100%|██████████| 154/154 [01:10<00:00,  2.20it/s, accuracy=99.5, loss=0.018]  \n",
          "output_type": "stream"
        },
        {
          "name": "stdout",
          "text": "Validation Loss: 0.4617180713649952, Validation Accuracy: 88.55378769888388%\n",
          "output_type": "stream"
        },
        {
          "name": "stderr",
          "text": "Epoch 9/10: 100%|██████████| 154/154 [01:10<00:00,  2.20it/s, accuracy=99.8, loss=0.0115] \n",
          "output_type": "stream"
        },
        {
          "name": "stdout",
          "text": "Validation Loss: 0.4751120399345051, Validation Accuracy: 88.55378769888388%\n",
          "output_type": "stream"
        },
        {
          "name": "stderr",
          "text": "Epoch 10/10: 100%|██████████| 154/154 [01:10<00:00,  2.19it/s, accuracy=99.7, loss=0.013]  \n",
          "output_type": "stream"
        },
        {
          "name": "stdout",
          "text": "Validation Loss: 0.5310320673566876, Validation Accuracy: 88.53004037045832%\n",
          "output_type": "stream"
        }
      ],
      "execution_count": null
    },
    {
      "cell_type": "code",
      "source": [
        "torch.cuda.empty_cache()"
      ],
      "metadata": {
        "trusted": true,
        "execution": {
          "iopub.status.busy": "2025-04-12T04:40:35.143635Z",
          "iopub.execute_input": "2025-04-12T04:40:35.144167Z",
          "iopub.status.idle": "2025-04-12T04:40:35.147612Z",
          "shell.execute_reply.started": "2025-04-12T04:40:35.144144Z",
          "shell.execute_reply": "2025-04-12T04:40:35.146884Z"
        },
        "id": "T-I26TcBT8ZW"
      },
      "outputs": [],
      "execution_count": null
    },
    {
      "cell_type": "code",
      "source": [
        "model.eval()\n",
        "val_loss = 0.0\n",
        "correct = 0\n",
        "total = 0\n",
        "\n",
        "with torch.no_grad():\n",
        "    for images, labels in val_loader:\n",
        "        outputs = model(images)\n",
        "        loss = criterion(outputs, labels)\n",
        "        val_loss += loss.item()\n",
        "\n",
        "        # คำนวณ prediction\n",
        "        _, predicted = torch.max(outputs, 1)\n",
        "        total += labels.size(0)\n",
        "        correct += (predicted == labels).sum().item()\n",
        "\n",
        "val_accuracy = 100 * correct / total\n",
        "print(f\"Validation Loss: {val_loss/len(val_loader)}, Validation Accuracy: {val_accuracy}%\")"
      ],
      "metadata": {
        "trusted": true,
        "execution": {
          "iopub.status.busy": "2025-04-12T04:40:17.383155Z",
          "iopub.execute_input": "2025-04-12T04:40:17.383932Z",
          "iopub.status.idle": "2025-04-12T04:40:22.988802Z",
          "shell.execute_reply.started": "2025-04-12T04:40:17.383908Z",
          "shell.execute_reply": "2025-04-12T04:40:22.98798Z"
        },
        "id": "5kaJXRzHT8ZX",
        "outputId": "bf347eed-7009-4b74-8e15-b15fb2f3363d"
      },
      "outputs": [
        {
          "name": "stdout",
          "text": "Validation Loss: 0.5310320673566876, Validation Accuracy: 88.53004037045832%\n",
          "output_type": "stream"
        }
      ],
      "execution_count": null
    },
    {
      "cell_type": "code",
      "source": [
        "model.eval()\n",
        "\n",
        "images, labels = next(iter(val_loader))\n",
        "\n",
        "with torch.no_grad():\n",
        "    outputs = model(images)\n",
        "    _, predicted = torch.max(outputs, 1)\n",
        "\n",
        "n = 10\n",
        "plt.figure(figsize=(15, 6))\n",
        "\n",
        "for i in range(n):\n",
        "    plt.subplot(2, n//2, i+1)\n",
        "    img = images[i].cpu().permute(1, 2, 0)\n",
        "    plt.imshow(img)\n",
        "\n",
        "    true_label = labels[i].item()\n",
        "    pred_label = predicted[i].item()\n",
        "\n",
        "    color = 'green' if true_label == pred_label else 'red'\n",
        "    plt.title(f\"GT: {true_label}\\nPred: {pred_label}\", color=color)\n",
        "    plt.axis('off')\n",
        "\n",
        "plt.tight_layout()\n",
        "plt.show()"
      ],
      "metadata": {
        "trusted": true,
        "execution": {
          "iopub.status.busy": "2025-04-12T04:42:15.104463Z",
          "iopub.execute_input": "2025-04-12T04:42:15.10508Z",
          "iopub.status.idle": "2025-04-12T04:42:16.227751Z",
          "shell.execute_reply.started": "2025-04-12T04:42:15.10506Z",
          "shell.execute_reply": "2025-04-12T04:42:16.226994Z"
        },
        "id": "fGCokOitT8ZZ",
        "outputId": "4de1155b-37ba-4224-cf3e-acdbb9a8939e"
      },
      "outputs": [
        {
          "output_type": "display_data",
          "data": {
            "text/plain": "<Figure size 1500x600 with 10 Axes>",
            "image/png": "[encoded data removed]"
          },
          "metadata": {}
        }
      ],
      "execution_count": null
    }
  ]
}